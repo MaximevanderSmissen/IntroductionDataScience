{
 "cells": [
  {
   "cell_type": "code",
   "execution_count": 1,
   "metadata": {},
   "outputs": [],
   "source": [
    "import pandas as pd"
   ]
  },
  {
   "cell_type": "code",
   "execution_count": 2,
   "metadata": {},
   "outputs": [],
   "source": [
    "from scipy.stats import chi2_contingency"
   ]
  },
  {
   "cell_type": "code",
   "execution_count": 3,
   "metadata": {},
   "outputs": [],
   "source": [
    "chessGames = pd.read_csv('Datasets/assignment4.csv', sep=',')"
   ]
  },
  {
   "cell_type": "code",
   "execution_count": 4,
   "metadata": {},
   "outputs": [
    {
     "data": {
      "text/plain": [
       "Index(['id', 'rated', 'created_at', 'last_move_at', 'turns', 'victory_status',\n",
       "       'winner', 'increment_code', 'white_id', 'white_rating', 'black_id',\n",
       "       'black_rating', 'moves', 'opening_eco', 'opening_name', 'opening_ply'],\n",
       "      dtype='object')"
      ]
     },
     "execution_count": 4,
     "metadata": {},
     "output_type": "execute_result"
    }
   ],
   "source": [
    "chessGames.columns"
   ]
  },
  {
   "cell_type": "markdown",
   "metadata": {},
   "source": [
    "# Categorical columns:\n",
    "* Rated;\n",
    "* Victory_status;\n",
    "* Winner;\n",
    "* Opening_name."
   ]
  },
  {
   "cell_type": "code",
   "execution_count": 30,
   "metadata": {},
   "outputs": [
    {
     "data": {
      "text/plain": [
       "rated\n",
       "True     16155\n",
       "False     3903\n",
       "dtype: int64"
      ]
     },
     "execution_count": 30,
     "metadata": {},
     "output_type": "execute_result"
    }
   ],
   "source": [
    "chessGames.value_counts('rated')"
   ]
  },
  {
   "cell_type": "markdown",
   "metadata": {},
   "source": [
    "It might be interesting to check whether the victory status and the game being rated are correlated, these columns will be compared for correlation.\n",
    "\n",
    "It is likely that the game being rated partly determines its outcome. Thus our null hypothesis will be that the variables are independent, and our alternative hypothesis will be that they are correlated.\n",
    "\n",
    "The absolute sizes of the contingency table are not that usefull to us, because we're looking for a difference in the distribution of victory statuses in rated vs unrated games. \n",
    "Because there are a lot more rated games compared to unrated games, we'll convert the contingency table to a percentage after unstacking it, all rated games (now spread across victory statuses) together will be 100%, as will all unrated games.\n",
    "\n",
    "Having done this transform, it is much easier to compare the relative lengths are now shown directly in the bar plot, instead of the absolute numbers."
   ]
  },
  {
   "cell_type": "code",
   "execution_count": 31,
   "metadata": {},
   "outputs": [
    {
     "data": {
      "text/html": [
       "<div>\n",
       "<style scoped>\n",
       "    .dataframe tbody tr th:only-of-type {\n",
       "        vertical-align: middle;\n",
       "    }\n",
       "\n",
       "    .dataframe tbody tr th {\n",
       "        vertical-align: top;\n",
       "    }\n",
       "\n",
       "    .dataframe thead th {\n",
       "        text-align: right;\n",
       "    }\n",
       "</style>\n",
       "<table border=\"1\" class=\"dataframe\">\n",
       "  <thead>\n",
       "    <tr style=\"text-align: right;\">\n",
       "      <th>rated</th>\n",
       "      <th>False</th>\n",
       "      <th>True</th>\n",
       "    </tr>\n",
       "    <tr>\n",
       "      <th>victory_status</th>\n",
       "      <th></th>\n",
       "      <th></th>\n",
       "    </tr>\n",
       "  </thead>\n",
       "  <tbody>\n",
       "    <tr>\n",
       "      <th>draw</th>\n",
       "      <td>0.057648</td>\n",
       "      <td>0.042154</td>\n",
       "    </tr>\n",
       "    <tr>\n",
       "      <th>mate</th>\n",
       "      <td>0.302075</td>\n",
       "      <td>0.318539</td>\n",
       "    </tr>\n",
       "    <tr>\n",
       "      <th>outoftime</th>\n",
       "      <td>0.082244</td>\n",
       "      <td>0.084123</td>\n",
       "    </tr>\n",
       "    <tr>\n",
       "      <th>resign</th>\n",
       "      <td>0.558032</td>\n",
       "      <td>0.555184</td>\n",
       "    </tr>\n",
       "  </tbody>\n",
       "</table>\n",
       "</div>"
      ],
      "text/plain": [
       "rated              False     True \n",
       "victory_status                    \n",
       "draw            0.057648  0.042154\n",
       "mate            0.302075  0.318539\n",
       "outoftime       0.082244  0.084123\n",
       "resign          0.558032  0.555184"
      ]
     },
     "execution_count": 31,
     "metadata": {},
     "output_type": "execute_result"
    }
   ],
   "source": [
    "contingencyTableVictoryStatusOpeningName = chessGames.groupby(['victory_status', 'rated']).size().unstack('rated', fill_value=0)\n",
    "# Transform the hard values on size between rated and unrated games to percentages\n",
    "contingencyTableVictoryStatusOpeningNamePercentage = contingencyTableVictoryStatusOpeningName.transform(lambda x: x/sum(x))\n",
    "contingencyTableVictoryStatusOpeningNamePercentage"
   ]
  },
  {
   "cell_type": "code",
   "execution_count": 24,
   "metadata": {},
   "outputs": [
    {
     "data": {
      "text/plain": [
       "<AxesSubplot:xlabel='victory_status'>"
      ]
     },
     "execution_count": 24,
     "metadata": {},
     "output_type": "execute_result"
    },
    {
     "data": {
      "image/png": "[encoded data removed]",
      "text/plain": [
       "<Figure size 432x288 with 1 Axes>"
      ]
     },
     "metadata": {
      "needs_background": "light"
     },
     "output_type": "display_data"
    }
   ],
   "source": [
    "contingencyTableVictoryStatusOpeningNamePercentage.plot.bar()"
   ]
  },
  {
   "cell_type": "code",
   "execution_count": 28,
   "metadata": {},
   "outputs": [
    {
     "data": {
      "text/plain": [
       "(0.0028705944213795547,\n",
       " 0.9999591301929635,\n",
       " 3,\n",
       " array([[0.04990105, 0.04990105],\n",
       "        [0.31030724, 0.31030724],\n",
       "        [0.0831835 , 0.0831835 ],\n",
       "        [0.55660822, 0.55660822]]))"
      ]
     },
     "execution_count": 28,
     "metadata": {},
     "output_type": "execute_result"
    }
   ],
   "source": [
    "chi2_contingency(contingencyTableVictoryStatusOpeningNamePercentage)"
   ]
  },
  {
   "cell_type": "markdown",
   "metadata": {},
   "source": [
    "The null hypothesis states that both variables are independent of one another, whereas the alternative hypothesis states that they are dependent.\n",
    "The p-value is 99.996%, this is a lot higher than a significance of 0.05 or 5%.\n",
    "The null hypothesis can not be discarded, these variables are independent of each other."
   ]
  },
  {
   "cell_type": "code",
   "execution_count": null,
   "metadata": {},
   "outputs": [],
   "source": []
  }
 ],
 "metadata": {
  "kernelspec": {
   "display_name": "Python 3",
   "language": "python",
   "name": "python3"
  },
  "language_info": {
   "codemirror_mode": {
    "name": "ipython",
    "version": 3
   },
   "file_extension": ".py",
   "mimetype": "text/x-python",
   "name": "python",
   "nbconvert_exporter": "python",
   "pygments_lexer": "ipython3",
   "version": "3.8.5"
  }
 },
 "nbformat": 4,
 "nbformat_minor": 4
}
