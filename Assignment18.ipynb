{
 "cells": [
  {
   "cell_type": "code",
   "execution_count": 1,
   "metadata": {},
   "outputs": [],
   "source": [
    "import pandas as pd\n",
    "from sklearn.tree import DecisionTreeRegressor\n",
    "from sklearn.model_selection import train_test_split\n",
    "from sklearn import tree\n",
    "import graphviz"
   ]
  },
  {
   "cell_type": "code",
   "execution_count": 2,
   "metadata": {},
   "outputs": [],
   "source": [
    "def plot_tree_regression(model, features):\n",
    "    # Generate plot data\n",
    "    dot_data = tree.export_graphviz(model, out_file=None, \n",
    "                          feature_names=features,  \n",
    "                          filled=True, rounded=True,  \n",
    "                          special_characters=True)  \n",
    "\n",
    "    # Turn into graph using graphviz\n",
    "    graph = graphviz.Source(dot_data)  \n",
    "\n",
    "    # Write out a pdf\n",
    "    graph.render(\"decision_tree\")\n",
    "\n",
    "    # Display in the notebook\n",
    "    return graph"
   ]
  },
  {
   "cell_type": "code",
   "execution_count": 3,
   "metadata": {},
   "outputs": [],
   "source": [
    "def calculate_rmse(predictions, actuals):\n",
    "    if(len(predictions) != len(actuals)):\n",
    "        raise Exception(\"The amount of predictions did not equal the amount of actuals\")\n",
    "    \n",
    "    return (((predictions - actuals) ** 2).sum() / len(actuals)) ** (1/2)"
   ]
  },
  {
   "cell_type": "code",
   "execution_count": 4,
   "metadata": {},
   "outputs": [
    {
     "name": "stdout",
     "output_type": "stream",
     "text": [
      "(14040, 16) (6018, 16)\n"
     ]
    }
   ],
   "source": [
    "chessGames = pd.read_csv('Datasets/assignment4.csv', sep=',')\n",
    "chess_train, chess_test = train_test_split(chessGames, test_size=0.3, stratify=chessGames['rated'])\n",
    "print(chess_train.shape, chess_test.shape)"
   ]
  },
  {
   "cell_type": "code",
   "execution_count": 5,
   "metadata": {},
   "outputs": [
    {
     "data": {
      "text/plain": [
       "DecisionTreeRegressor(max_depth=25)"
      ]
     },
     "execution_count": 5,
     "metadata": {},
     "output_type": "execute_result"
    }
   ],
   "source": [
    "features = ['turns', 'white_rating', 'opening_ply']\n",
    "dt = DecisionTreeRegressor(max_depth=25) # Increase max_depth to see effect in the plot\n",
    "dt.fit(chess_train[features], chess_train['black_rating'])"
   ]
  },
  {
   "cell_type": "code",
   "execution_count": 6,
   "metadata": {},
   "outputs": [
    {
     "name": "stdout",
     "output_type": "stream",
     "text": [
      "RMSE on training set 53.442110813384\n",
      "RMSE on test set 296.6089370210102\n"
     ]
    }
   ],
   "source": [
    "predictionsOnTrainset = dt.predict(chess_train[features])\n",
    "predictionsOnTestset = dt.predict(chess_test[features])\n",
    "\n",
    "rmseTrain = calculate_rmse(predictionsOnTrainset, chess_train.black_rating)\n",
    "rmseTest = calculate_rmse(predictionsOnTestset, chess_test.black_rating)\n",
    "\n",
    "print(\"RMSE on training set \" + str(rmseTrain))\n",
    "print(\"RMSE on test set \" + str(rmseTest))"
   ]
  },
  {
   "cell_type": "markdown",
   "metadata": {},
   "source": [
    "The Root Mean Square Error is a lot smaller when running predictions on the training data when comparing to the predictions on the test data, where the error is almost 6 times as large.\n",
    "\n",
    "A difference in the error was expected, because the training data was previously seen, while the test data was not. It wasn't expected that difference in size of the error would be this big."
   ]
  },
  {
   "cell_type": "code",
   "execution_count": null,
   "metadata": {},
   "outputs": [],
   "source": [
    "plot_tree_regression(dt, features)"
   ]
  },
  {
   "cell_type": "markdown",
   "metadata": {},
   "source": [
    "The decision tree seems to try to make sure the mean squared error (mse) is as small as possible, and uses this to find out what condition should be used for a given node in the decision tree. \n",
    "\n",
    "The decision tree continues to divide the sample, until either the mse is 0.0, or the max depth of the tree is reached."
   ]
  }
 ],
 "metadata": {
  "kernelspec": {
   "display_name": "Python 3",
   "language": "python",
   "name": "python3"
  },
  "language_info": {
   "codemirror_mode": {
    "name": "ipython",
    "version": 3
   },
   "file_extension": ".py",
   "mimetype": "text/x-python",
   "name": "python",
   "nbconvert_exporter": "python",
   "pygments_lexer": "ipython3",
   "version": "3.8.5"
  }
 },
 "nbformat": 4,
 "nbformat_minor": 4
}
