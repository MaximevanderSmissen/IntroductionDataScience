{
 "cells": [
  {
   "cell_type": "markdown",
   "metadata": {},
   "source": [
    "# Data Science\n",
    "Turning data into information."
   ]
  },
  {
   "cell_type": "markdown",
   "metadata": {},
   "source": [
    "## Types of Data & Univariate analysis\n",
    "Simply said, there are two types of data we must differentiate between."
   ]
  },
  {
   "cell_type": "markdown",
   "metadata": {},
   "source": [
    "### Categorical Data\n",
    "Categorical data is always discrete, always has a finite number of values, which are non-numerical.  \n",
    "Examples are booleans or, taking the penguin dataset, the species of a penguin or the island it lives on.  \n",
    "This type of data is most useful in, for example, bar plots or in showing differences in the data via other charts."
   ]
  },
  {
   "cell_type": "markdown",
   "metadata": {},
   "source": [
    "### Numerical Data\n",
    "Numerical data always consists of numbers and thus can be analyzed differently.\n",
    "For example, one can get the maximum, minimum mean, or median values of a property, as well as the standard deviation and confidence interval.  \n",
    "Due to its nature, a bar plot isn't all that useful for this data. A histogram might be used, though a box plot proves far more useful in most cases.  \n",
    "\n",
    "Numerical data has two important distinctions: it can be discrete or continuous.\n",
    "Where discrete numerical data does consist of numbers, the value can only have a countable amount of values.\n",
    "An example of discrete numerical data is the place a participant of a race finished in. If there only were 10 participants, you can finish in the first or tenth place, but it's impossible to finish in 6.7th place.\n",
    "\n",
    "Continuous data is entirely different in this regard.\n",
    "Continuous data can take on infinitely many values, even if bounded by two constants.\n",
    "A good example of continuous data is the length of a person. \n",
    "Even if you only measure only the people between the range of 1.50cm and 1.70cm, the amount of values one can get is infinite, as long as one measures precisely enough.  \n",
    "It is, of course, possible to round the measured length to some kind of significance, for example, 0.001cm, at that moment the data from this measurement is no longer continuous, but distinct."
   ]
  },
  {
   "cell_type": "markdown",
   "metadata": {},
   "source": [
    "## Bivariate analysis\n",
    "Data can be correlated to find out how the data behaves on one property when related to another.  \n",
    "The easiest way to do this is to correlate the numerical data of two properties.\n",
    "However, it is also possible to compare data, when distributing it over the various categories of another property.\n",
    "\n",
    "It is important when looking at bivariate analysis, to know when the results you're looking at are statistically significant.  \n",
    "This is what a $\\chi^2$ (chi2 or chi squared) contingency table can be used for, where a predetermined significance determines whether or not the null hypothesis can be discarded in favour of the alternative hypothesis."
   ]
  },
  {
   "cell_type": "markdown",
   "metadata": {},
   "source": [
    "## Multivariate analysis\n",
    "Another tool in the data scientists kit is the model, where a portion of the data can be used to train an algorithm, so it can be tested with other data.  \n",
    "The following models can be used for multivariate analysis.\n",
    "\n",
    "### Decision Tree Models\n",
    "The decision tree is a model that tries to split the data into several nodes that each have their result.  \n",
    "Models like these can be used to perform multivariate analysis in a way where multiple properties of a dataset can be used to predict the value of one given other property, an example is predicting the species of a penguin depending on the bill length, depth and the length of the flipper.  \n",
    "For Categorical data, this is done using a classification algorithm, for numerical data a regression algorithm is used.  \n",
    "It's up to the data scientist to decide which data to include in the model and to choose an efficient and effective max depth of the tree.\n",
    "\n",
    "The core concept of the decision tree is as follows:  \n",
    "* A root node with all the given data, this is the sample of the node;\n",
    "* The node is assigned a result, based on the sample of the node;\n",
    "* Using its algorithm, the model tries to split the sample into two parts in the following way:\n",
    " * For categorical data, the algorithm tries to minimize the spread of the data over different categories;\n",
    " * For numerical data, the algorithm calculates the mean squared error and tries to minimise the result of this formula.\n",
    "* The split samples are assigned to the underlying nodes, at which point the cycle continues (to point 2) until either the max tree depth is reached, or the dividing factor (point 3, with sub-points) is 0.\n",
    "\n",
    "### Cluster Models\n",
    "Cluster models also use multiple properties of a dataset to make predictions about this set. The difference, however, is that these models can be used to predict the value of multiple other properties, without having to train the model specifically for it. This is also known as the clustering problem.  \n",
    "The clustering model that was used is the K-means algorithm. This model can be measured with the silhouette score.  \n",
    "A cluster can be evaluated by pairwise comparing numerical properties, or by adding the predictions from the model to the dataset, under the property \"cluster\", grouping this property with a categorical property and unstacking its size in the cluster dimension."
   ]
  }
 ],
 "metadata": {
  "kernelspec": {
   "display_name": "Python 3",
   "language": "python",
   "name": "python3"
  },
  "language_info": {
   "codemirror_mode": {
    "name": "ipython",
    "version": 3
   },
   "file_extension": ".py",
   "mimetype": "text/x-python",
   "name": "python",
   "nbconvert_exporter": "python",
   "pygments_lexer": "ipython3",
   "version": "3.8.5"
  }
 },
 "nbformat": 4,
 "nbformat_minor": 4
}
